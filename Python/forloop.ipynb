{
 "cells": [
  {
   "cell_type": "markdown",
   "metadata": {},
   "source": [
    "For Loop"
   ]
  },
  {
   "cell_type": "code",
   "execution_count": 1,
   "metadata": {},
   "outputs": [],
   "source": [
    "integer=[1,2,3,4,5,6,7,8,9,10]"
   ]
  },
  {
   "cell_type": "code",
   "execution_count": 2,
   "metadata": {},
   "outputs": [
    {
     "name": "stdout",
     "output_type": "stream",
     "text": [
      "1\n",
      "2\n",
      "3\n",
      "4\n",
      "5\n",
      "6\n",
      "7\n",
      "8\n",
      "9\n",
      "10\n"
     ]
    }
   ],
   "source": [
    "for numbers in integer :\n",
    "    print(numbers)"
   ]
  },
  {
   "cell_type": "code",
   "execution_count": 5,
   "metadata": {},
   "outputs": [
    {
     "name": "stdout",
     "output_type": "stream",
     "text": [
      "oh yeah\n",
      "oh yeah\n",
      "oh yeah\n",
      "oh yeah\n",
      "oh yeah\n",
      "oh yeah\n",
      "oh yeah\n",
      "oh yeah\n",
      "oh yeah\n",
      "oh yeah\n"
     ]
    }
   ],
   "source": [
    "for i in integer :\n",
    "    print(\"oh yeah\")"
   ]
  },
  {
   "cell_type": "code",
   "execution_count": 6,
   "metadata": {},
   "outputs": [
    {
     "name": "stdout",
     "output_type": "stream",
     "text": [
      "2\n",
      "3\n",
      "4\n",
      "5\n",
      "6\n",
      "7\n",
      "8\n",
      "9\n",
      "10\n",
      "11\n"
     ]
    }
   ],
   "source": [
    "for i in integer :\n",
    "    print(i+1)"
   ]
  },
  {
   "cell_type": "code",
   "execution_count": 9,
   "metadata": {},
   "outputs": [
    {
     "name": "stdout",
     "output_type": "stream",
     "text": [
      "name\n",
      "flavour\n",
      "Brahmtej\n",
      "chocklate\n",
      "('name', 'Brahmtej')\n",
      "('flavour', 'chocklate')\n"
     ]
    }
   ],
   "source": [
    "iceCreamLovers={\n",
    "    'name' : 'Brahmtej',\n",
    "    'flavour' : 'chocklate'\n",
    "}\n",
    "\n",
    "for i in iceCreamLovers:\n",
    "    print(i)\n",
    "\n",
    "for i in iceCreamLovers.values():\n",
    "    print(i)\n",
    "\n",
    "for i in iceCreamLovers.items():\n",
    "    print(i)"
   ]
  },
  {
   "cell_type": "code",
   "execution_count": 11,
   "metadata": {},
   "outputs": [
    {
     "name": "stdout",
     "output_type": "stream",
     "text": [
      "chocolate  toped with  chocochip\n",
      "chocolate  toped with  oreo\n",
      "vanila  toped with  chocochip\n",
      "vanila  toped with  oreo\n"
     ]
    }
   ],
   "source": [
    "flavours = ['chocolate', 'vanila']\n",
    "toppings = ['chocochip', 'oreo']\n",
    "\n",
    "for i in flavours:\n",
    "    for j in toppings:\n",
    "        print(i,' toped with ', j)"
   ]
  },
  {
   "cell_type": "code",
   "execution_count": null,
   "metadata": {},
   "outputs": [],
   "source": []
  }
 ],
 "metadata": {
  "kernelspec": {
   "display_name": "Python 3",
   "language": "python",
   "name": "python3"
  },
  "language_info": {
   "codemirror_mode": {
    "name": "ipython",
    "version": 3
   },
   "file_extension": ".py",
   "mimetype": "text/x-python",
   "name": "python",
   "nbconvert_exporter": "python",
   "pygments_lexer": "ipython3",
   "version": "3.11.4"
  }
 },
 "nbformat": 4,
 "nbformat_minor": 2
}
