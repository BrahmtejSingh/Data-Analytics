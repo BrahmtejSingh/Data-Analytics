{
 "cells": [
  {
   "cell_type": "markdown",
   "metadata": {},
   "source": [
    "Amazon Web Scraper Project\n"
   ]
  },
  {
   "cell_type": "code",
   "execution_count": 13,
   "metadata": {},
   "outputs": [],
   "source": [
    "from bs4 import BeautifulSoup\n",
    "import requests\n",
    "import time\n",
    "import datetime\n",
    "\n",
    "import smtplib"
   ]
  },
  {
   "cell_type": "code",
   "execution_count": 14,
   "metadata": {},
   "outputs": [
    {
     "name": "stdout",
     "output_type": "stream",
     "text": [
      "\n",
      "                    Funny All You Need is Love and Data Tee, Data Analyst Gift, Programmer Shirt, Computer Science Student Top, Geeky Tee\n",
      "                   \n",
      "\n",
      "\n",
      "\n",
      "\n",
      "                    $18.82\n",
      "                   \n",
      "\n",
      "\n",
      "\n",
      "\n",
      "\n",
      "                      $\n",
      "                     \n",
      "\n",
      "                      18\n",
      "                      \n",
      "                       .\n",
      "                      \n",
      "\n",
      "\n",
      "                      82\n",
      "                     \n",
      "\n",
      "\n",
      "\n",
      "\n",
      "\n",
      "\n",
      "\n",
      "\n",
      "\n",
      "\n",
      "\n",
      "\n"
     ]
    }
   ],
   "source": [
    "URL = 'https://www.amazon.com/Analyst-Programmer-Computer-Science-Student/dp/B0DV5H1FHX/ref=sr_1_6?crid=EG1J0VSZUDWF&dib=eyJ2IjoiMSJ9.XMnn0-bixQklWfa1xv3KyCSSL8C5jB-Wm-IdN9iO_VMjfoWNJCEoSTElg1Fr5niNxL57GRaMitEQnnNj8Q4VMAvLe0qSB4rYaUILm5v08eyhSwjoLktQAWDCTxWS5fmMK5qr-kg_pFt4Uv43Bj_V83odeaKEYO5XT7RAAWLRyxtI5PcB2digXy9IU2cgTQOdvd1Vizn8tBYJlio7sggYVlfxuvOvAqdNhGS7XmVL-b-LQbBjR5GvuRI3YCFEDN_eq6yWv93Kj4uUE_tc-Xw6zj6ppYK3OnvepyUY6WNREeo5A337p8e1Q-UsFYwPOou3E6ivbZFHz_tf_cLuQmxWsYheu07oFcAbft9UUcFRek1f0TBNQDds4VCkfqCqcY-fXZTlZD7DPK12U5DzLH4mVMKRumHmkC1FkllYM_MfIWyI2G0Bwhj09BG6CoqEmYRx.cd9JtJUfsn4Ytn0_lXa1r47dGraC_AtrTRDRuSPhdg0&dib_tag=se&keywords=shirt%2Bdata%2Bscience&qid=1741979996&sprefix=shirt%2Bdata%2Bscience%2Caps%2C95&sr=8-6&th=1&psc=1'\n",
    "\n",
    "headers = {\"User-Agent\": \"Mozilla/5.0 (Windows NT 10.0; Win64; x64) AppleWebKit/537.36 (KHTML, like Gecko) Chrome/78.0.3904.108 Safari/537.36\", \"Accept-Encoding\":\"gzip, deflate\", \"Accept\":\"text/html,application/xhtml+xml,application/xml;q=0.9,*/*;q=0.8\", \"DNT\":\"1\",\"Connection\":\"close\", \"Upgrade-Insecure-Requests\":\"1\"}\n",
    "\n",
    "page = requests.get(URL, headers=headers)\n",
    "\n",
    "soup1 = BeautifulSoup(page.content, \"html.parser\")\n",
    "soup2 = BeautifulSoup(soup1.prettify(), \"html.parser\")\n",
    "\n",
    "title=soup2.find(id='productTitle').get_text()\n",
    "price=soup2.find(id='corePriceDisplay_desktop_feature_div').get_text()\n",
    "\n",
    "\n",
    "print(title)\n",
    "print(price)"
   ]
  },
  {
   "cell_type": "code",
   "execution_count": 15,
   "metadata": {},
   "outputs": [
    {
     "name": "stdout",
     "output_type": "stream",
     "text": [
      "Funny All You Need is Love and Data Tee, Data Analyst Gift, Programmer Shirt, Computer Science Student Top, Geeky Tee\n",
      "18.8\n"
     ]
    }
   ],
   "source": [
    "price = price.strip()[1:5]\n",
    "title = title.strip()\n",
    "\n",
    "print(title)\n",
    "print(price)"
   ]
  },
  {
   "cell_type": "code",
   "execution_count": 16,
   "metadata": {},
   "outputs": [
    {
     "name": "stdout",
     "output_type": "stream",
     "text": [
      "2025-03-14\n"
     ]
    }
   ],
   "source": [
    "import datetime\n",
    "\n",
    "today = datetime.date.today()\n",
    "\n",
    "print(today)"
   ]
  },
  {
   "cell_type": "code",
   "execution_count": 17,
   "metadata": {},
   "outputs": [],
   "source": [
    "import csv \n",
    "\n",
    "header = ['Title', 'Price', 'Date']\n",
    "data = [title, price, today]\n",
    "\n",
    "\n",
    "with open('AmazonWebScraperDataset.csv', 'w', newline='', encoding='UTF8') as f:\n",
    "    writer = csv.writer(f)\n",
    "    writer.writerow(header)\n",
    "    writer.writerow(data)"
   ]
  },
  {
   "cell_type": "code",
   "execution_count": 18,
   "metadata": {},
   "outputs": [
    {
     "name": "stdout",
     "output_type": "stream",
     "text": [
      "                                               Title  Price        Date\n",
      "0  Funny All You Need is Love and Data Tee, Data ...   18.8  2025-03-14\n"
     ]
    }
   ],
   "source": [
    "import pandas as pd\n",
    "\n",
    "df=pd.read_csv(r'AmazonWebScraperDataset.csv')\n",
    "\n",
    "print(df)"
   ]
  },
  {
   "cell_type": "code",
   "execution_count": 19,
   "metadata": {},
   "outputs": [],
   "source": [
    "with open('AmazonWebScraperDataset.csv', 'a+', newline='', encoding='UTF8') as f:\n",
    "    writer = csv.writer(f)\n",
    "    writer.writerow(data)"
   ]
  },
  {
   "cell_type": "code",
   "execution_count": 20,
   "metadata": {},
   "outputs": [],
   "source": [
    "def check_price():\n",
    "    URL = 'https://www.amazon.com/Analyst-Programmer-Computer-Science-Student/dp/B0DV5H1FHX/ref=sr_1_6?crid=EG1J0VSZUDWF&dib=eyJ2IjoiMSJ9.XMnn0-bixQklWfa1xv3KyCSSL8C5jB-Wm-IdN9iO_VMjfoWNJCEoSTElg1Fr5niNxL57GRaMitEQnnNj8Q4VMAvLe0qSB4rYaUILm5v08eyhSwjoLktQAWDCTxWS5fmMK5qr-kg_pFt4Uv43Bj_V83odeaKEYO5XT7RAAWLRyxtI5PcB2digXy9IU2cgTQOdvd1Vizn8tBYJlio7sggYVlfxuvOvAqdNhGS7XmVL-b-LQbBjR5GvuRI3YCFEDN_eq6yWv93Kj4uUE_tc-Xw6zj6ppYK3OnvepyUY6WNREeo5A337p8e1Q-UsFYwPOou3E6ivbZFHz_tf_cLuQmxWsYheu07oFcAbft9UUcFRek1f0TBNQDds4VCkfqCqcY-fXZTlZD7DPK12U5DzLH4mVMKRumHmkC1FkllYM_MfIWyI2G0Bwhj09BG6CoqEmYRx.cd9JtJUfsn4Ytn0_lXa1r47dGraC_AtrTRDRuSPhdg0&dib_tag=se&keywords=shirt%2Bdata%2Bscience&qid=1741979996&sprefix=shirt%2Bdata%2Bscience%2Caps%2C95&sr=8-6&th=1&psc=1'\n",
    "\n",
    "    headers = {\"User-Agent\": \"Mozilla/5.0 (Windows NT 10.0; Win64; x64) AppleWebKit/537.36 (KHTML, like Gecko) Chrome/78.0.3904.108 Safari/537.36\", \"Accept-Encoding\":\"gzip, deflate\", \"Accept\":\"text/html,application/xhtml+xml,application/xml;q=0.9,*/*;q=0.8\", \"DNT\":\"1\",\"Connection\":\"close\", \"Upgrade-Insecure-Requests\":\"1\"}\n",
    "\n",
    "    page = requests.get(URL, headers=headers)\n",
    "\n",
    "    soup1 = BeautifulSoup(page.content, \"html.parser\")\n",
    "    soup2 = BeautifulSoup(soup1.prettify(), \"html.parser\")\n",
    "\n",
    "    title=soup2.find(id='productTitle').get_text()\n",
    "    price=soup2.find(id='corePriceDisplay_desktop_feature_div').get_text()\n",
    "\n",
    "    price = price.strip()[1:5]\n",
    "    title = title.strip()\n",
    "\n",
    "    import datetime\n",
    "\n",
    "    today = datetime.date.today()\n",
    "\n",
    "    import csv \n",
    "\n",
    "    header = ['Title', 'Price', 'Date']\n",
    "    data = [title, price, today]\n",
    "\n",
    "    with open('AmazonWebScraperDataset.csv', 'a+', newline='', encoding='UTF8') as f:\n",
    "        writer = csv.writer(f)\n",
    "        writer.writerow(data)"
   ]
  },
  {
   "cell_type": "code",
   "execution_count": 28,
   "metadata": {},
   "outputs": [],
   "source": [
    "start_time = time.time()\n",
    "while True: \n",
    "    check_price()\n",
    "    time.sleep(5)\n",
    "    if time.time() - start_time > 5:\n",
    "        break"
   ]
  },
  {
   "cell_type": "code",
   "execution_count": 29,
   "metadata": {},
   "outputs": [
    {
     "name": "stdout",
     "output_type": "stream",
     "text": [
      "                                                Title  Price        Date\n",
      "0   Funny All You Need is Love and Data Tee, Data ...   18.8  2025-03-14\n",
      "1   Funny All You Need is Love and Data Tee, Data ...   18.8  2025-03-14\n",
      "2   Funny All You Need is Love and Data Tee, Data ...   18.8  2025-03-14\n",
      "3   Funny All You Need is Love and Data Tee, Data ...   18.8  2025-03-14\n",
      "4   Funny All You Need is Love and Data Tee, Data ...   18.8  2025-03-14\n",
      "5   Funny All You Need is Love and Data Tee, Data ...   18.8  2025-03-14\n",
      "6   Funny All You Need is Love and Data Tee, Data ...   18.8  2025-03-14\n",
      "7   Funny All You Need is Love and Data Tee, Data ...   18.8  2025-03-14\n",
      "8   Funny All You Need is Love and Data Tee, Data ...   18.8  2025-03-14\n",
      "9   Funny All You Need is Love and Data Tee, Data ...   18.8  2025-03-14\n",
      "10  Funny All You Need is Love and Data Tee, Data ...   18.8  2025-03-14\n",
      "11  Funny All You Need is Love and Data Tee, Data ...   18.8  2025-03-14\n",
      "12  Funny All You Need is Love and Data Tee, Data ...   18.8  2025-03-14\n",
      "13  Funny All You Need is Love and Data Tee, Data ...   18.8  2025-03-14\n"
     ]
    }
   ],
   "source": [
    "import pandas as pd\n",
    "\n",
    "df=pd.read_csv(r'AmazonWebScraperDataset.csv')\n",
    "\n",
    "print(df)"
   ]
  },
  {
   "cell_type": "markdown",
   "metadata": {},
   "source": [
    "\n",
    "def send_mail():\n",
    "    server = smtplib.SMTP_SSL('smtp.gmail.com',465)\n",
    "    server.ehlo()\n",
    "    #server.starttls()\n",
    "    server.ehlo()\n",
    "    server.login('AlexTheAnalyst95@gmail.com','xxxxxxxxxxxxxx')\n",
    "    \n",
    "    subject = \"The Shirt you want is below $15! Now is your chance to buy!\"\n",
    "    body = \"Alex, This is the moment we have been waiting for. Now is your chance to pick up the shirt of your dreams. Don't mess it up! Link here: https://www.amazon.com/Funny-Data-Systems-Business-Analyst/dp/B07FNW9FGJ/ref=sr_1_3?dchild=1&keywords=data+analyst+tshirt&qid=1626655184&sr=8-3\"\n",
    "   \n",
    "    msg = f\"Subject: {subject}\\n\\n{body}\"\n",
    "    \n",
    "    server.sendmail(\n",
    "        'AlexTheAnalyst95@gmail.com',\n",
    "        msg\n",
    "     \n",
    "    )"
   ]
  }
 ],
 "metadata": {
  "kernelspec": {
   "display_name": "Python 3",
   "language": "python",
   "name": "python3"
  },
  "language_info": {
   "codemirror_mode": {
    "name": "ipython",
    "version": 3
   },
   "file_extension": ".py",
   "mimetype": "text/x-python",
   "name": "python",
   "nbconvert_exporter": "python",
   "pygments_lexer": "ipython3",
   "version": "3.11.4"
  }
 },
 "nbformat": 4,
 "nbformat_minor": 2
}
