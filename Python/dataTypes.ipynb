{
 "cells": [
  {
   "cell_type": "markdown",
   "metadata": {},
   "source": [
    "Data Types"
   ]
  },
  {
   "cell_type": "code",
   "execution_count": null,
   "metadata": {},
   "outputs": [
    {
     "data": {
      "text/plain": [
       "int"
      ]
     },
     "execution_count": 1,
     "metadata": {},
     "output_type": "execute_result"
    }
   ],
   "source": [
    "type(-12 + 100)"
   ]
  },
  {
   "cell_type": "code",
   "execution_count": 2,
   "metadata": {},
   "outputs": [
    {
     "data": {
      "text/plain": [
       "float"
      ]
     },
     "execution_count": 2,
     "metadata": {},
     "output_type": "execute_result"
    }
   ],
   "source": [
    "type(12 + 2.5)"
   ]
  },
  {
   "cell_type": "code",
   "execution_count": 3,
   "metadata": {},
   "outputs": [
    {
     "data": {
      "text/plain": [
       "complex"
      ]
     },
     "execution_count": 3,
     "metadata": {},
     "output_type": "execute_result"
    }
   ],
   "source": [
    "type(12 + 3j)"
   ]
  },
  {
   "cell_type": "code",
   "execution_count": 4,
   "metadata": {},
   "outputs": [
    {
     "data": {
      "text/plain": [
       "bool"
      ]
     },
     "execution_count": 4,
     "metadata": {},
     "output_type": "execute_result"
    }
   ],
   "source": [
    "type(1>5)"
   ]
  },
  {
   "cell_type": "code",
   "execution_count": 5,
   "metadata": {},
   "outputs": [
    {
     "data": {
      "text/plain": [
       "False"
      ]
     },
     "execution_count": 5,
     "metadata": {},
     "output_type": "execute_result"
    }
   ],
   "source": [
    "1>5"
   ]
  },
  {
   "cell_type": "code",
   "execution_count": 7,
   "metadata": {},
   "outputs": [
    {
     "data": {
      "text/plain": [
       "True"
      ]
     },
     "execution_count": 7,
     "metadata": {},
     "output_type": "execute_result"
    }
   ],
   "source": [
    "1==1"
   ]
  },
  {
   "cell_type": "code",
   "execution_count": 8,
   "metadata": {},
   "outputs": [
    {
     "data": {
      "text/plain": [
       "'Single quote'"
      ]
     },
     "execution_count": 8,
     "metadata": {},
     "output_type": "execute_result"
    }
   ],
   "source": [
    "'Single quote'"
   ]
  },
  {
   "cell_type": "code",
   "execution_count": 9,
   "metadata": {},
   "outputs": [
    {
     "data": {
      "text/plain": [
       "'Double Quote'"
      ]
     },
     "execution_count": 9,
     "metadata": {},
     "output_type": "execute_result"
    }
   ],
   "source": [
    "\"Double Quote\""
   ]
  },
  {
   "cell_type": "code",
   "execution_count": 15,
   "metadata": {},
   "outputs": [
    {
     "name": "stdout",
     "output_type": "stream",
     "text": [
      "\n",
      "hlo\n",
      "how\n",
      "are\n",
      "you\n",
      "\n"
     ]
    },
    {
     "data": {
      "text/plain": [
       "str"
      ]
     },
     "execution_count": 15,
     "metadata": {},
     "output_type": "execute_result"
    }
   ],
   "source": [
    "multiLine = \"\"\"\n",
    "hlo\n",
    "how\n",
    "are\n",
    "you\n",
    "\"\"\"\n",
    "print(multiLine)\n",
    "type(multiLine)"
   ]
  },
  {
   "cell_type": "code",
   "execution_count": 21,
   "metadata": {},
   "outputs": [
    {
     "name": "stdout",
     "output_type": "stream",
     "text": [
      " \n",
      "d\n",
      "ello\n",
      " hello world  hello world \n",
      " hello world  hello world  hello world \n"
     ]
    }
   ],
   "source": [
    "a=\" hello world \"\n",
    "print(a[6])\n",
    "print(a[-2])\n",
    "print(a[2:6])\n",
    "print(a+a)\n",
    "print(a*3)"
   ]
  },
  {
   "cell_type": "code",
   "execution_count": 30,
   "metadata": {},
   "outputs": [
    {
     "name": "stdout",
     "output_type": "stream",
     "text": [
      "[1, 2, 3, 'Chocolate', 'Vanila', True]\n",
      "True\n",
      "[3, 'Chocolate', 'Vanila']\n",
      "[3, 'Chocolate', 'cookie']\n",
      "Vanila\n"
     ]
    }
   ],
   "source": [
    "a=[1,2,3,\"Chocolate\",\"Vanila\",True]\n",
    "print(a)\n",
    "print(a[5])\n",
    "print(a[2:5])\n",
    "a[4] = \"cookie\"\n",
    "print(a[2:5])\n",
    "b=[1,2,3,[\"Chocolate\",\"Vanila\"],True]\n",
    "print(b[3][1])"
   ]
  },
  {
   "cell_type": "code",
   "execution_count": 37,
   "metadata": {},
   "outputs": [
    {
     "name": "stdout",
     "output_type": "stream",
     "text": [
      "(1, 2, 3, 2, 1)\n",
      "<class 'tuple'>\n",
      "3\n"
     ]
    }
   ],
   "source": [
    "tuple=(\n",
    "    1,2,3,2,1\n",
    ")\n",
    "\n",
    "print(tuple)\n",
    "\n",
    "print(type(tuple))\n",
    "\n",
    "print(tuple[2])\n",
    "\n",
    "# tuple[2]=5"
   ]
  },
  {
   "cell_type": "code",
   "execution_count": 42,
   "metadata": {},
   "outputs": [
    {
     "name": "stdout",
     "output_type": "stream",
     "text": [
      "{1, 2, 3}\n",
      "<class 'set'>\n",
      "{1, 2, 3, 4, 5}\n",
      "{1, 2, 3}\n",
      "set()\n",
      "{4, 5}\n"
     ]
    }
   ],
   "source": [
    "points={1,2,3}\n",
    "print(points)\n",
    "print((type(points)))\n",
    "\n",
    "points2={5,4,3,2,1}\n",
    "\n",
    "print(points | points2)\n",
    "print(points & points2)\n",
    "print(points - points2)\n",
    "print(points ^ points2)\n"
   ]
  },
  {
   "cell_type": "code",
   "execution_count": 46,
   "metadata": {},
   "outputs": [
    {
     "name": "stdout",
     "output_type": "stream",
     "text": [
      "<class 'dict'>\n",
      "{'name': 'Brahmtej', 'dob': '05-10-1999'}\n",
      "dict_keys(['name', 'dob'])\n",
      "dict_items([('name', 'Brahmtej'), ('dob', '05-10-1999')])\n",
      "Brahmtej\n",
      "Brahmtej Singh\n"
     ]
    }
   ],
   "source": [
    "dictnory={\n",
    "    \"name\":\"Brahmtej\",\n",
    "    \"dob\" : \"05-10-1999\"\n",
    "}\n",
    "print(type(dictnory))\n",
    "print(dictnory)\n",
    "print(dictnory.keys())\n",
    "print(dictnory.items())\n",
    "print(dictnory[\"name\"])\n",
    "dictnory[\"name\"]=\"Brahmtej Singh\"\n",
    "print(dictnory[\"name\"])"
   ]
  },
  {
   "cell_type": "code",
   "execution_count": null,
   "metadata": {},
   "outputs": [],
   "source": []
  }
 ],
 "metadata": {
  "kernelspec": {
   "display_name": "Python 3",
   "language": "python",
   "name": "python3"
  },
  "language_info": {
   "codemirror_mode": {
    "name": "ipython",
    "version": 3
   },
   "file_extension": ".py",
   "mimetype": "text/x-python",
   "name": "python",
   "nbconvert_exporter": "python",
   "pygments_lexer": "ipython3",
   "version": "3.11.4"
  }
 },
 "nbformat": 4,
 "nbformat_minor": 2
}
