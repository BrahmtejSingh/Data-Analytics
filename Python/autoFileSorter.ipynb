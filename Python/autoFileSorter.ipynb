{
 "cells": [
  {
   "cell_type": "markdown",
   "metadata": {},
   "source": [
    "Automatic File Sorter in File Explorer"
   ]
  },
  {
   "cell_type": "code",
   "execution_count": 25,
   "metadata": {},
   "outputs": [],
   "source": [
    "import os,shutil"
   ]
  },
  {
   "cell_type": "code",
   "execution_count": 26,
   "metadata": {},
   "outputs": [],
   "source": [
    "path = r\"C:/Users/brahm/Downloads/DS/Python/autoFileSortTest/\""
   ]
  },
  {
   "cell_type": "code",
   "execution_count": 32,
   "metadata": {},
   "outputs": [
    {
     "name": "stdout",
     "output_type": "stream",
     "text": [
      "['bmp file', 'txt file', 'xlsx file']\n"
     ]
    }
   ],
   "source": [
    "os.listdir(path)\n",
    "fileNames=os.listdir(path)\n",
    "print(fileNames)"
   ]
  },
  {
   "cell_type": "code",
   "execution_count": 28,
   "metadata": {},
   "outputs": [],
   "source": [
    "folderNames=[\"bmp file\", \"xlsx file\", \"txt file\"]\n",
    "\n",
    "for loop in range (0,3):\n",
    "    if not os.path.exists(path + folderNames[loop]):\n",
    "        os.makedirs(path + folderNames[loop])"
   ]
  },
  {
   "cell_type": "code",
   "execution_count": 31,
   "metadata": {},
   "outputs": [],
   "source": [
    "for file in fileNames:\n",
    "    if \".bmp\" in file and not os.path.exists(path + \"bmp file/\" + file):\n",
    "        shutil.move(path + file, path + \"bmp file/\" + file)\n",
    "    elif \".xlsx\" in file and not os.path.exists(path + \"xlsx file/\" + file):\n",
    "        shutil.move(path + file, path + \"xlsx file/\" + file)\n",
    "    elif \".txt\" in file and not os.path.exists(path + \"txt file/\" + file):\n",
    "        shutil.move(path + file, path + \"txt file/\" + file)   "
   ]
  }
 ],
 "metadata": {
  "kernelspec": {
   "display_name": "Python 3",
   "language": "python",
   "name": "python3"
  },
  "language_info": {
   "codemirror_mode": {
    "name": "ipython",
    "version": 3
   },
   "file_extension": ".py",
   "mimetype": "text/x-python",
   "name": "python",
   "nbconvert_exporter": "python",
   "pygments_lexer": "ipython3",
   "version": "3.11.4"
  }
 },
 "nbformat": 4,
 "nbformat_minor": 2
}
