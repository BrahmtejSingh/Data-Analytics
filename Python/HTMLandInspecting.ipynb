{
 "cells": [
  {
   "cell_type": "markdown",
   "metadata": {},
   "source": [
    "HTML and Inspecting a WEB Page"
   ]
  },
  {
   "cell_type": "markdown",
   "metadata": {},
   "source": [
    "<html>\n",
    "<head>\n",
    "    <title>My First Web Page</title>\n",
    "</head>\n",
    "\n",
    "<body>\n",
    "    <h1>My First Web Page</h1>\n",
    "    <p><b>Hello World Wide Web!</b></p>\n",
    "    <p><i>Hello World Wide Web!</i></p>\n",
    "    <p><u>Hello World Wide Web!</u></p>\n",
    "    <p>This is my first web page.</p>\n",
    "    <p>HTML tags can give <b><i>various</i></b> <u>looks and formats</u> to the content of this web page.</p>\n",
    "</body>\n",
    "\n",
    "</html>"
   ]
  },
  {
   "cell_type": "code",
   "execution_count": null,
   "metadata": {},
   "outputs": [],
   "source": []
  }
 ],
 "metadata": {
  "language_info": {
   "name": "python"
  }
 },
 "nbformat": 4,
 "nbformat_minor": 2
}
