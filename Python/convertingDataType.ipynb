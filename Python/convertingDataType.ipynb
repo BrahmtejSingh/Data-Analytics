{
 "cells": [
  {
   "cell_type": "markdown",
   "metadata": {},
   "source": [
    "Converting Data Types"
   ]
  },
  {
   "cell_type": "code",
   "execution_count": 2,
   "metadata": {},
   "outputs": [
    {
     "data": {
      "text/plain": [
       "int"
      ]
     },
     "execution_count": 2,
     "metadata": {},
     "output_type": "execute_result"
    }
   ],
   "source": [
    "numInt = 7\n",
    "type(numInt)\n"
   ]
  },
  {
   "cell_type": "code",
   "execution_count": 4,
   "metadata": {},
   "outputs": [
    {
     "data": {
      "text/plain": [
       "str"
      ]
     },
     "execution_count": 4,
     "metadata": {},
     "output_type": "execute_result"
    }
   ],
   "source": [
    "numStr = '7'\n",
    "type(numStr)"
   ]
  },
  {
   "cell_type": "code",
   "execution_count": 7,
   "metadata": {},
   "outputs": [
    {
     "name": "stdout",
     "output_type": "stream",
     "text": [
      "14\n"
     ]
    }
   ],
   "source": [
    "numSum = numInt + int(numStr)\n",
    "\n",
    "print(numSum)"
   ]
  },
  {
   "cell_type": "code",
   "execution_count": 11,
   "metadata": {},
   "outputs": [
    {
     "name": "stdout",
     "output_type": "stream",
     "text": [
      "<class 'list'>\n",
      "<class 'tuple'>\n"
     ]
    }
   ],
   "source": [
    "listType=[1,2,3]\n",
    "print(type(listType))\n",
    "\n",
    "print( type ( tuple(listType) ) )"
   ]
  },
  {
   "cell_type": "code",
   "execution_count": 18,
   "metadata": {},
   "outputs": [
    {
     "name": "stdout",
     "output_type": "stream",
     "text": [
      "<class 'list'>\n",
      "<class 'set'>\n",
      "{1, 2, 3, 4, 5, 6, 9, 44, 849, 87}\n"
     ]
    }
   ],
   "source": [
    "listType=[1,2,3,3,3,3,4,4,4,4,4,44,4,5,6,9,87,849,4,4,5,6]\n",
    "print(type(listType))\n",
    "\n",
    "print( type ( set(listType) ) )\n",
    "print(set(listType))"
   ]
  },
  {
   "cell_type": "code",
   "execution_count": 28,
   "metadata": {},
   "outputs": [
    {
     "name": "stdout",
     "output_type": "stream",
     "text": [
      "<class 'dict'>\n",
      "dict_items([('name', 'Brahmtej'), ('dob', '05-10-1999'), ('age', 25)])\n",
      "dict_values(['Brahmtej', '05-10-1999', 25])\n",
      "['name', 'dob', 'age']\n",
      "<class 'list'>\n",
      "['name', 'dob', 'age']\n",
      "[('name', 'Brahmtej'), ('dob', '05-10-1999'), ('age', 25)]\n",
      "['Brahmtej', '05-10-1999', 25]\n"
     ]
    }
   ],
   "source": [
    "dictType={\n",
    "    'name' : 'Brahmtej',\n",
    "    'dob' : '05-10-1999',\n",
    "    'age' : 25\n",
    "}\n",
    "print(type(dictType))\n",
    "print(dictType.items())\n",
    "print(dictType.values())\n",
    "\n",
    "print(list(dictType))\n",
    "print(type(list(dictType)))\n",
    "print(list(dictType.keys()))\n",
    "print(list(dictType.items()))\n",
    "print(list(dictType.values()))"
   ]
  },
  {
   "cell_type": "code",
   "execution_count": 31,
   "metadata": {},
   "outputs": [
    {
     "name": "stdout",
     "output_type": "stream",
     "text": [
      "<class 'str'>\n",
      "{'i', 'n', 'B', 'j', 'a', 's', 'h', 'm', ' ', 't', 'e', 'y', 'r'}\n",
      "<class 'set'>\n"
     ]
    }
   ],
   "source": [
    "longStr='my name is Brahmtej'\n",
    "\n",
    "print(type(longStr))\n",
    "\n",
    "print(set(longStr))\n",
    "\n",
    "print(type(set(longStr)))"
   ]
  },
  {
   "cell_type": "code",
   "execution_count": null,
   "metadata": {},
   "outputs": [],
   "source": []
  }
 ],
 "metadata": {
  "kernelspec": {
   "display_name": "Python 3",
   "language": "python",
   "name": "python3"
  },
  "language_info": {
   "codemirror_mode": {
    "name": "ipython",
    "version": 3
   },
   "file_extension": ".py",
   "mimetype": "text/x-python",
   "name": "python",
   "nbconvert_exporter": "python",
   "pygments_lexer": "ipython3",
   "version": "3.11.4"
  }
 },
 "nbformat": 4,
 "nbformat_minor": 2
}
