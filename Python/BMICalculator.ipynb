{
 "cells": [
  {
   "cell_type": "markdown",
   "metadata": {},
   "source": [
    "BMI Calculator"
   ]
  },
  {
   "cell_type": "code",
   "execution_count": 11,
   "metadata": {},
   "outputs": [],
   "source": [
    "name = input('Enter your name: ')\n",
    "height = int(input(\"Enter your height in inches: \"))\n",
    "weight = int(input(\"Enter your weight in pounds: \"))"
   ]
  },
  {
   "cell_type": "code",
   "execution_count": 12,
   "metadata": {},
   "outputs": [
    {
     "name": "stdout",
     "output_type": "stream",
     "text": [
      "your height is :  69\n",
      "your weight is:  190\n",
      "your BMI is :  28.0550304557866\n"
     ]
    }
   ],
   "source": [
    "# BMI = ( weight in pounds x 703 ) / (height in inches x height in inches) \n",
    "\n",
    "BMI = ( weight * 703 ) / ( height * height )\n",
    "\n",
    "print(\"your height is : \", height)\n",
    "print(\"your weight is: \", weight)\n",
    "print(\"your BMI is : \" , BMI)"
   ]
  },
  {
   "cell_type": "code",
   "execution_count": 16,
   "metadata": {},
   "outputs": [
    {
     "name": "stdout",
     "output_type": "stream",
     "text": [
      "You are over-weight.\n"
     ]
    }
   ],
   "source": [
    "if BMI > 0 : \n",
    "    if BMI < 18.5 : \n",
    "        print(\"You are under-weight.\")\n",
    "    elif BMI < 24.9 : \n",
    "        print(\"You are normal-weight.\")\n",
    "    elif BMI < 29.9 : \n",
    "        print(\"You are over-weight.\")\n",
    "    elif BMI < 34.9 : \n",
    "        print(\"You are obese.\")\n",
    "    elif BMI < 39.9 : \n",
    "        print(\"You are severly obese.\")\n",
    "    elif BMI >= 39.9 : \n",
    "        print(\"You are over morbidly obese.\")\n",
    "else:\n",
    "    print(\"Enter valid Input\")"
   ]
  },
  {
   "cell_type": "code",
   "execution_count": 17,
   "metadata": {},
   "outputs": [
    {
     "name": "stdout",
     "output_type": "stream",
     "text": [
      "Name :  Brahmtej\n",
      "Your height is :  69  inches\n",
      "Your weight is:  190  pounds\n",
      "Your BMI is :  28.0550304557866\n",
      "You are over-weight.\n"
     ]
    }
   ],
   "source": [
    "print(\"Name : \", name)\n",
    "print(\"Your height is : \", height , \" inches\")\n",
    "print(\"Your weight is: \", weight, \" pounds\")\n",
    "print(\"Your BMI is : \" , BMI)\n",
    "\n",
    "if BMI > 0 : \n",
    "    if BMI < 18.5 : \n",
    "        print(\"You are under-weight.\")\n",
    "    elif BMI < 24.9 : \n",
    "        print(\"You are normal-weight.\")\n",
    "    elif BMI < 29.9 : \n",
    "        print(\"You are over-weight.\")\n",
    "    elif BMI < 34.9 : \n",
    "        print(\"You are obese.\")\n",
    "    elif BMI < 39.9 : \n",
    "        print(\"You are severly obese.\")\n",
    "    elif BMI >= 39.9 : \n",
    "        print(\"You are over morbidly obese.\")\n",
    "else:\n",
    "    print(\"Enter valid Input\")"
   ]
  }
 ],
 "metadata": {
  "kernelspec": {
   "display_name": "Python 3",
   "language": "python",
   "name": "python3"
  },
  "language_info": {
   "codemirror_mode": {
    "name": "ipython",
    "version": 3
   },
   "file_extension": ".py",
   "mimetype": "text/x-python",
   "name": "python",
   "nbconvert_exporter": "python",
   "pygments_lexer": "ipython3",
   "version": "3.11.4"
  }
 },
 "nbformat": 4,
 "nbformat_minor": 2
}
