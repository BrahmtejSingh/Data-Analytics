{
 "cells": [
  {
   "cell_type": "markdown",
   "metadata": {},
   "source": [
    "If-Else"
   ]
  },
  {
   "cell_type": "code",
   "execution_count": 1,
   "metadata": {},
   "outputs": [
    {
     "name": "stdout",
     "output_type": "stream",
     "text": [
      "yes it is\n"
     ]
    }
   ],
   "source": [
    "if 25>10 :\n",
    "    print('yes it is')"
   ]
  },
  {
   "cell_type": "code",
   "execution_count": 2,
   "metadata": {},
   "outputs": [],
   "source": [
    "if(10<5):\n",
    "    print('yes it is')"
   ]
  },
  {
   "cell_type": "code",
   "execution_count": 4,
   "metadata": {},
   "outputs": [
    {
     "name": "stdout",
     "output_type": "stream",
     "text": [
      "nah its not\n"
     ]
    }
   ],
   "source": [
    "if(10<5):\n",
    "    print('yes it is')\n",
    "else:\n",
    "    print('nah its not')"
   ]
  },
  {
   "cell_type": "code",
   "execution_count": 9,
   "metadata": {},
   "outputs": [
    {
     "name": "stdout",
     "output_type": "stream",
     "text": [
      "yes it is grater than 5\n"
     ]
    }
   ],
   "source": [
    "if 10<5 or 10<6:\n",
    "    print('yes it is less than 5 or 6')\n",
    "elif 10>5:\n",
    "    print(\"yes it is grater than 5\")\n",
    "else:\n",
    "    print('nah its not a number')"
   ]
  },
  {
   "cell_type": "code",
   "execution_count": 7,
   "metadata": {},
   "outputs": [
    {
     "name": "stdout",
     "output_type": "stream",
     "text": [
      "it didnt work\n"
     ]
    }
   ],
   "source": [
    "print('it worked') if 10>30 else print('it didnt work')"
   ]
  },
  {
   "cell_type": "code",
   "execution_count": 10,
   "metadata": {},
   "outputs": [
    {
     "name": "stdout",
     "output_type": "stream",
     "text": [
      "yes it is grater than 5\n",
      "and it is less than 20\n"
     ]
    }
   ],
   "source": [
    "if 10<5 or 10<6:\n",
    "    print('yes it is less than 5 or 6')\n",
    "    if 10<4:\n",
    "        print('It is less than 4')\n",
    "elif 10>5:\n",
    "    print(\"yes it is grater than 5\")\n",
    "    if(10<20):\n",
    "        print(\"and it is less than 20\")\n",
    "else:\n",
    "    print('nah its not a number')"
   ]
  },
  {
   "cell_type": "code",
   "execution_count": null,
   "metadata": {},
   "outputs": [],
   "source": []
  }
 ],
 "metadata": {
  "kernelspec": {
   "display_name": "Python 3",
   "language": "python",
   "name": "python3"
  },
  "language_info": {
   "codemirror_mode": {
    "name": "ipython",
    "version": 3
   },
   "file_extension": ".py",
   "mimetype": "text/x-python",
   "name": "python",
   "nbconvert_exporter": "python",
   "pygments_lexer": "ipython3",
   "version": "3.11.4"
  }
 },
 "nbformat": 4,
 "nbformat_minor": 2
}
